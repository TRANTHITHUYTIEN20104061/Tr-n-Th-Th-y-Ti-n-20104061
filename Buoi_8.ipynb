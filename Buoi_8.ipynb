{
  "nbformat": 4,
  "nbformat_minor": 0,
  "metadata": {
    "colab": {
      "provenance": [],
      "authorship_tag": "ABX9TyNoIzCmFubojW+fXBLTMZJC",
      "include_colab_link": true
    },
    "kernelspec": {
      "name": "python3",
      "display_name": "Python 3"
    },
    "language_info": {
      "name": "python"
    },
    "accelerator": "GPU",
    "gpuClass": "standard"
  },
  "cells": [
    {
      "cell_type": "markdown",
      "metadata": {
        "id": "view-in-github",
        "colab_type": "text"
      },
      "source": [
        "<a href=\"https://colab.research.google.com/github/TRANTHITHUYTIEN20104061/Tr-n-Th-Th-y-Ti-n-20104061/blob/main/Buoi_8.ipynb\" target=\"_parent\"><img src=\"https://colab.research.google.com/assets/colab-badge.svg\" alt=\"Open In Colab\"/></a>"
      ]
    },
    {
      "cell_type": "code",
      "execution_count": null,
      "metadata": {
        "id": "YbbbziI58DC9",
        "colab": {
          "base_uri": "https://localhost:8080/"
        },
        "outputId": "785907f0-ba2e-49b5-9981-640c523659e9"
      },
      "outputs": [
        {
          "output_type": "execute_result",
          "data": {
            "text/plain": [
              "(60000, 28, 28)"
            ]
          },
          "metadata": {},
          "execution_count": 5
        }
      ],
      "source": [
        "from keras.datasets import mnist\n",
        "from keras.models import Sequential\n",
        "from keras.layers import Dense, Activation, Dropout, Conv2D, Flatten, MaxPooling2D\n",
        "(x_train, y_train),(x_test,y_test)= mnist.load_data()\n",
        "x_train.shape"
      ]
    },
    {
      "cell_type": "code",
      "source": [
        "from keras.utils import load_img\n",
        "from keras.utils import to_categorical\n",
        "from keras import models\n",
        "from keras.layers import Conv2D, MaxPool2D, Dense, Flatten, MaxPooling2D\n",
        "y_train = to_categorical(y_train)\n",
        "y_test = to_categorical(y_test)"
      ],
      "metadata": {
        "id": "1Kto_mIHFTza"
      },
      "execution_count": null,
      "outputs": []
    },
    {
      "cell_type": "code",
      "source": [
        "model = models.Sequential()\n",
        "model.add(Conv2D(32,kernel_size = (3,3),activation='relu',input_shape=(28,28,1),padding=\"same\"))\n",
        "model.add(MaxPooling2D((2,2),padding=\"same\"))\n",
        "model.add(Conv2D(64,kernel_size = (3,3), activation='relu',padding='same'))\n",
        "model.add(MaxPooling2D((2,2),padding='same'))\n",
        "model.add(Flatten())\n",
        "model.add(Dense(128,activation='relu'))\n",
        "model.add(Dense(10,activation='softmax'))\n",
        "model.compile(loss='categorical_crossentropy',metrics=['accuracy'],optimizer='adam')\n",
        "history = model.fit(x_train,y_train,batch_size=128,epochs=20,verbose=2)"
      ],
      "metadata": {
        "colab": {
          "base_uri": "https://localhost:8080/"
        },
        "id": "quSJROXyG6Z5",
        "outputId": "8725721c-eb83-4d4d-a317-27fb1d34c425"
      },
      "execution_count": null,
      "outputs": [
        {
          "output_type": "stream",
          "name": "stdout",
          "text": [
            "Epoch 1/20\n",
            "469/469 - 3s - loss: 0.3850 - accuracy: 0.9410 - 3s/epoch - 6ms/step\n",
            "Epoch 2/20\n",
            "469/469 - 2s - loss: 0.0513 - accuracy: 0.9840 - 2s/epoch - 5ms/step\n",
            "Epoch 3/20\n",
            "469/469 - 2s - loss: 0.0345 - accuracy: 0.9893 - 2s/epoch - 4ms/step\n",
            "Epoch 4/20\n",
            "469/469 - 2s - loss: 0.0246 - accuracy: 0.9918 - 2s/epoch - 5ms/step\n",
            "Epoch 5/20\n",
            "469/469 - 2s - loss: 0.0232 - accuracy: 0.9922 - 2s/epoch - 4ms/step\n",
            "Epoch 6/20\n",
            "469/469 - 2s - loss: 0.0166 - accuracy: 0.9945 - 2s/epoch - 4ms/step\n",
            "Epoch 7/20\n",
            "469/469 - 2s - loss: 0.0172 - accuracy: 0.9948 - 2s/epoch - 4ms/step\n",
            "Epoch 8/20\n",
            "469/469 - 2s - loss: 0.0154 - accuracy: 0.9949 - 2s/epoch - 4ms/step\n",
            "Epoch 9/20\n",
            "469/469 - 2s - loss: 0.0155 - accuracy: 0.9951 - 2s/epoch - 4ms/step\n",
            "Epoch 10/20\n",
            "469/469 - 2s - loss: 0.0122 - accuracy: 0.9960 - 2s/epoch - 4ms/step\n",
            "Epoch 11/20\n",
            "469/469 - 2s - loss: 0.0114 - accuracy: 0.9963 - 2s/epoch - 4ms/step\n",
            "Epoch 12/20\n",
            "469/469 - 2s - loss: 0.0140 - accuracy: 0.9955 - 2s/epoch - 4ms/step\n",
            "Epoch 13/20\n",
            "469/469 - 2s - loss: 0.0121 - accuracy: 0.9963 - 2s/epoch - 4ms/step\n",
            "Epoch 14/20\n",
            "469/469 - 2s - loss: 0.0152 - accuracy: 0.9955 - 2s/epoch - 4ms/step\n",
            "Epoch 15/20\n",
            "469/469 - 2s - loss: 0.0116 - accuracy: 0.9965 - 2s/epoch - 4ms/step\n",
            "Epoch 16/20\n",
            "469/469 - 2s - loss: 0.0106 - accuracy: 0.9967 - 2s/epoch - 4ms/step\n",
            "Epoch 17/20\n",
            "469/469 - 2s - loss: 0.0087 - accuracy: 0.9972 - 2s/epoch - 4ms/step\n",
            "Epoch 18/20\n",
            "469/469 - 2s - loss: 0.0105 - accuracy: 0.9970 - 2s/epoch - 4ms/step\n",
            "Epoch 19/20\n",
            "469/469 - 2s - loss: 0.0087 - accuracy: 0.9973 - 2s/epoch - 4ms/step\n",
            "Epoch 20/20\n",
            "469/469 - 2s - loss: 0.0079 - accuracy: 0.9975 - 2s/epoch - 4ms/step\n"
          ]
        }
      ]
    },
    {
      "cell_type": "code",
      "source": [
        "from keras.utils import load_img\n",
        "from keras.utils import img_to_array,load_img\n",
        "import matplotlib.pyplot as plt\n",
        "import numpy as np\n",
        "from keras.models import load_model\n",
        "img = load_img('/content/9.png',target_size=(28,28))\n",
        "plt.imshow(img)\n",
        "img = img_to_array(img)\n",
        "img = img[:,:,0]\n",
        "img = img.astype('float32')\n",
        "img = img.reshape(1,28,28,1)\n",
        "img = img/255\n",
        "class_number=['1','3','2','4','5','6','7','8','9']\n",
        "a= int(np.argmax(model.predict(img),axis=1))\n",
        "print(\"Đây là số:\", class_number[a])\n",
        "test_lost,test_acc=model.evaluate(x_test,y_test)\n",
        "print('Test accuracy:',test_acc)"
      ],
      "metadata": {
        "colab": {
          "base_uri": "https://localhost:8080/",
          "height": 334
        },
        "id": "LrjreYHLSB5C",
        "outputId": "a51a4ae2-f996-49c0-84f1-c61773520ae2"
      },
      "execution_count": null,
      "outputs": [
        {
          "output_type": "stream",
          "name": "stdout",
          "text": [
            "1/1 [==============================] - 0s 16ms/step\n",
            "Đây là số: 9\n",
            "313/313 [==============================] - 1s 3ms/step - loss: 0.0782 - accuracy: 0.9866\n",
            "Test accuracy: 0.9865999817848206\n"
          ]
        },
        {
          "output_type": "display_data",
          "data": {
            "text/plain": [
              "<Figure size 432x288 with 1 Axes>"
            ],
            "image/png": "[encoded data removed]"
          },
          "metadata": {
            "needs_background": "light"
          }
        }
      ]
    },
    {
      "cell_type": "code",
      "source": [
        "plt.plot(history.history['accuracy'])\n",
        "plt.plot(history.history['loss'])\n",
        "plt.title('Độ chính xác của hình')\n",
        "plt.ylabel('Độ chính xác')\n",
        "plt.xlabel('Số lần lặp')\n",
        "plt.legend(['Train','Validation'])\n",
        "plt.show"
      ],
      "metadata": {
        "colab": {
          "base_uri": "https://localhost:8080/",
          "height": 313
        },
        "id": "LXJsnq_3ZHpJ",
        "outputId": "0ec767b8-34f1-4d1a-e7a5-82e6538fd5bc"
      },
      "execution_count": null,
      "outputs": [
        {
          "output_type": "execute_result",
          "data": {
            "text/plain": [
              "<function matplotlib.pyplot.show(*args, **kw)>"
            ]
          },
          "metadata": {},
          "execution_count": 48
        },
        {
          "output_type": "display_data",
          "data": {
            "text/plain": [
              "<Figure size 432x288 with 1 Axes>"
            ],
            "image/png": "[encoded data removed]"
          },
          "metadata": {
            "needs_background": "light"
          }
        }
      ]
    }
  ]
}