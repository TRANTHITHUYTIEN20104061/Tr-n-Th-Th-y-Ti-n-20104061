{
  "nbformat": 4,
  "nbformat_minor": 0,
  "metadata": {
    "colab": {
      "provenance": [],
      "authorship_tag": "ABX9TyNJoEaJWGtTlw0LWEn2qSrp",
      "include_colab_link": true
    },
    "kernelspec": {
      "name": "python3",
      "display_name": "Python 3"
    },
    "language_info": {
      "name": "python"
    }
  },
  "cells": [
    {
      "cell_type": "markdown",
      "metadata": {
        "id": "view-in-github",
        "colab_type": "text"
      },
      "source": [
        "<a href=\"https://colab.research.google.com/github/TRANTHITHUYTIEN20104061/Tr-n-Th-Th-y-Ti-n-20104061/blob/main/Buoi_5.ipynb\" target=\"_parent\"><img src=\"https://colab.research.google.com/assets/colab-badge.svg\" alt=\"Open In Colab\"/></a>"
      ]
    },
    {
      "cell_type": "code",
      "execution_count": null,
      "metadata": {
        "id": "RkztTUeF0qyz",
        "colab": {
          "base_uri": "https://localhost:8080/"
        },
        "outputId": "aec853e5-cbbd-495e-be0d-f55ce8b02302"
      },
      "outputs": [
        {
          "output_type": "execute_result",
          "data": {
            "text/plain": [
              "(60000, 28, 28)"
            ]
          },
          "metadata": {},
          "execution_count": 92
        }
      ],
      "source": [
        "from keras.datasets import mnist\n",
        "(train_images, train_labels),(test_images,test_labels)= mnist.load_data()\n",
        "train_images.shape #kiemtradulieu\n"
      ]
    },
    {
      "cell_type": "code",
      "source": [
        "from keras.datasets import mnist\n",
        "(train_images, train_labels), (test_images, test_labels) = mnist.load_data()\n",
        "import matplotlib.pyplot as plt\n",
        "plt.imshow(train_images[2])\n",
        "plt.show()\n",
        "print(train_labels[2])"
      ],
      "metadata": {
        "colab": {
          "base_uri": "https://localhost:8080/",
          "height": 282
        },
        "id": "dzgiH1Ap4FEF",
        "outputId": "47acf59d-70a9-44ec-fc02-ff02142b920c"
      },
      "execution_count": null,
      "outputs": [
        {
          "output_type": "display_data",
          "data": {
            "text/plain": [
              "<Figure size 432x288 with 1 Axes>"
            ],
            "image/png": "[encoded data removed]"
          },
          "metadata": {
            "needs_background": "light"
          }
        },
        {
          "output_type": "stream",
          "name": "stdout",
          "text": [
            "4\n"
          ]
        }
      ]
    },
    {
      "cell_type": "code",
      "source": [
        "from keras import models\n",
        "from keras import layers\n",
        "model=models.Sequential()\n",
        "model.add(layers.Dense(512,activation='relu', input_shape=(28*28,)))\n",
        "model.add(layers.Dense(10,activation='softmax'))\n",
        "model.summary()"
      ],
      "metadata": {
        "colab": {
          "base_uri": "https://localhost:8080/"
        },
        "id": "MpUJoD785Vpr",
        "outputId": "94f0f22d-a015-43e8-8311-1db15b83fdb6"
      },
      "execution_count": null,
      "outputs": [
        {
          "output_type": "stream",
          "name": "stdout",
          "text": [
            "Model: \"sequential_32\"\n",
            "_________________________________________________________________\n",
            " Layer (type)                Output Shape              Param #   \n",
            "=================================================================\n",
            " dense_51 (Dense)            (None, 512)               401920    \n",
            "                                                                 \n",
            " dense_52 (Dense)            (None, 10)                5130      \n",
            "                                                                 \n",
            "=================================================================\n",
            "Total params: 407,050\n",
            "Trainable params: 407,050\n",
            "Non-trainable params: 0\n",
            "_________________________________________________________________\n"
          ]
        }
      ]
    },
    {
      "cell_type": "code",
      "source": [
        "from keras import models\n",
        "from keras import layers\n",
        "model=models.Sequential()\n",
        "model.add(layers.Dense(512,activation='relu', input_shape=(28*28,)))\n",
        "model.add(layers.Dense(10,activation='softmax'))\n",
        "model.summary()\n",
        "train_images=train_images.reshape((60000,28*28))\n",
        "train_images=train_images.astype('float32')/255\n",
        "test_images=test_images.reshape((10000,28*28))\n",
        "test_images=test_images.astype('float32')/255\n",
        "train_images.shape\n"
      ],
      "metadata": {
        "colab": {
          "base_uri": "https://localhost:8080/"
        },
        "id": "iC2tUHVl9hMi",
        "outputId": "9eec7452-339b-418e-f9fd-4d154dc32caf"
      },
      "execution_count": null,
      "outputs": [
        {
          "output_type": "stream",
          "name": "stdout",
          "text": [
            "Model: \"sequential_33\"\n",
            "_________________________________________________________________\n",
            " Layer (type)                Output Shape              Param #   \n",
            "=================================================================\n",
            " dense_53 (Dense)            (None, 512)               401920    \n",
            "                                                                 \n",
            " dense_54 (Dense)            (None, 10)                5130      \n",
            "                                                                 \n",
            "=================================================================\n",
            "Total params: 407,050\n",
            "Trainable params: 407,050\n",
            "Non-trainable params: 0\n",
            "_________________________________________________________________\n"
          ]
        },
        {
          "output_type": "execute_result",
          "data": {
            "text/plain": [
              "(60000, 784)"
            ]
          },
          "metadata": {},
          "execution_count": 95
        }
      ]
    },
    {
      "cell_type": "code",
      "source": [
        "from keras import models\n",
        "from keras import layers\n",
        "model=models.Sequential()\n",
        "model.add(layers.Dense(512,activation='relu', input_shape=(28*28,)))\n",
        "model.add(layers.Dense(10,activation='softmax'))\n",
        "model.summary()\n",
        "train_images=train_images.reshape((60000,28*28))\n",
        "train_images=train_images.astype('float32')/255\n",
        "test_images=test_images.reshape((10000,28*28))\n",
        "test_images=test_images.astype('float32')/255\n",
        "train_images.shape\n",
        "from keras.utils import to_categorical\n",
        "train_labels=to_categorical(train_labels)\n",
        "test_labels=to_categorical(test_labels)\n",
        "test_labels.shape"
      ],
      "metadata": {
        "colab": {
          "base_uri": "https://localhost:8080/"
        },
        "id": "IvFsK-8O-WEL",
        "outputId": "c221ad51-d8d9-4d43-b69f-0cf52bc3046c"
      },
      "execution_count": null,
      "outputs": [
        {
          "output_type": "stream",
          "name": "stdout",
          "text": [
            "Model: \"sequential_34\"\n",
            "_________________________________________________________________\n",
            " Layer (type)                Output Shape              Param #   \n",
            "=================================================================\n",
            " dense_55 (Dense)            (None, 512)               401920    \n",
            "                                                                 \n",
            " dense_56 (Dense)            (None, 10)                5130      \n",
            "                                                                 \n",
            "=================================================================\n",
            "Total params: 407,050\n",
            "Trainable params: 407,050\n",
            "Non-trainable params: 0\n",
            "_________________________________________________________________\n"
          ]
        },
        {
          "output_type": "execute_result",
          "data": {
            "text/plain": [
              "(10000, 10)"
            ]
          },
          "metadata": {},
          "execution_count": 96
        }
      ]
    },
    {
      "cell_type": "code",
      "source": [
        "from keras import models\n",
        "from keras import layers\n",
        "model=models.Sequential()\n",
        "model.add(layers.Dense(512,activation='relu', input_shape=(28*28,)))\n",
        "model.add(layers.Dense(10,activation='softmax'))\n",
        "train_images=train_images.reshape((60000,28*28))\n",
        "train_images=train_images.astype('float32')/255\n",
        "test_images=test_images.reshape((10000,28*28))\n",
        "test_images=test_images.astype('float32')/255\n",
        "train_images.shape\n",
        "from keras.utils import to_categorical\n",
        "train_labels=to_categorical(train_labels)\n",
        "test_labels=to_categorical(test_labels)\n",
        "\n"
      ],
      "metadata": {
        "id": "JERSnEx9AXHf"
      },
      "execution_count": null,
      "outputs": []
    },
    {
      "cell_type": "code",
      "source": [
        "from keras.metrics import metrics\n",
        "model.compile(optimizer ='rmsprop',loss='categorical_crossentropy',metrics=['accuracy'])\n",
        "model.fit(x_train,y_train,epochs=100, batch_size= 128)"
      ],
      "metadata": {
        "colab": {
          "base_uri": "https://localhost:8080/"
        },
        "id": "G-1MZzK8GMlL",
        "outputId": "8bce479b-4969-402a-c9e8-3b9ea710629c"
      },
      "execution_count": null,
      "outputs": [
        {
          "output_type": "stream",
          "name": "stdout",
          "text": [
            "Epoch 1/100\n",
            "469/469 [==============================] - 6s 11ms/step - loss: 0.5565 - accuracy: 0.8037\n",
            "Epoch 2/100\n",
            "469/469 [==============================] - 6s 13ms/step - loss: 0.3804 - accuracy: 0.8602\n",
            "Epoch 3/100\n",
            "469/469 [==============================] - 5s 11ms/step - loss: 0.3376 - accuracy: 0.8763\n",
            "Epoch 4/100\n",
            "469/469 [==============================] - 6s 13ms/step - loss: 0.3126 - accuracy: 0.8845\n",
            "Epoch 5/100\n",
            "469/469 [==============================] - 6s 12ms/step - loss: 0.2926 - accuracy: 0.8921\n",
            "Epoch 6/100\n",
            "469/469 [==============================] - 5s 11ms/step - loss: 0.2763 - accuracy: 0.8982\n",
            "Epoch 7/100\n",
            "469/469 [==============================] - 5s 11ms/step - loss: 0.2652 - accuracy: 0.9018\n",
            "Epoch 8/100\n",
            "469/469 [==============================] - 7s 15ms/step - loss: 0.2545 - accuracy: 0.9057\n",
            "Epoch 9/100\n",
            "469/469 [==============================] - 6s 13ms/step - loss: 0.2455 - accuracy: 0.9093\n",
            "Epoch 10/100\n",
            "469/469 [==============================] - 6s 12ms/step - loss: 0.2339 - accuracy: 0.9125\n",
            "Epoch 11/100\n",
            "469/469 [==============================] - 5s 10ms/step - loss: 0.2272 - accuracy: 0.9149\n",
            "Epoch 12/100\n",
            "469/469 [==============================] - 5s 10ms/step - loss: 0.2186 - accuracy: 0.9193\n",
            "Epoch 13/100\n",
            "469/469 [==============================] - 5s 10ms/step - loss: 0.2112 - accuracy: 0.9210\n",
            "Epoch 14/100\n",
            "469/469 [==============================] - 5s 10ms/step - loss: 0.2062 - accuracy: 0.9232\n",
            "Epoch 15/100\n",
            "469/469 [==============================] - 5s 11ms/step - loss: 0.1983 - accuracy: 0.9271\n",
            "Epoch 16/100\n",
            "469/469 [==============================] - 7s 15ms/step - loss: 0.1945 - accuracy: 0.9272\n",
            "Epoch 17/100\n",
            "469/469 [==============================] - 6s 12ms/step - loss: 0.1877 - accuracy: 0.9303\n",
            "Epoch 18/100\n",
            "469/469 [==============================] - 5s 11ms/step - loss: 0.1822 - accuracy: 0.9327\n",
            "Epoch 19/100\n",
            "469/469 [==============================] - 5s 11ms/step - loss: 0.1807 - accuracy: 0.9329\n",
            "Epoch 20/100\n",
            "469/469 [==============================] - 5s 11ms/step - loss: 0.1741 - accuracy: 0.9357\n",
            "Epoch 21/100\n",
            "469/469 [==============================] - 5s 11ms/step - loss: 0.1685 - accuracy: 0.9374\n",
            "Epoch 22/100\n",
            "469/469 [==============================] - 5s 11ms/step - loss: 0.1647 - accuracy: 0.9397\n",
            "Epoch 23/100\n",
            "469/469 [==============================] - 5s 11ms/step - loss: 0.1612 - accuracy: 0.9410\n",
            "Epoch 24/100\n",
            "469/469 [==============================] - 5s 10ms/step - loss: 0.1556 - accuracy: 0.9426\n",
            "Epoch 25/100\n",
            "469/469 [==============================] - 5s 10ms/step - loss: 0.1541 - accuracy: 0.9447\n",
            "Epoch 26/100\n",
            "469/469 [==============================] - 6s 13ms/step - loss: 0.1496 - accuracy: 0.9452\n",
            "Epoch 27/100\n",
            "469/469 [==============================] - 5s 12ms/step - loss: 0.1444 - accuracy: 0.9474\n",
            "Epoch 28/100\n",
            "469/469 [==============================] - 5s 10ms/step - loss: 0.1434 - accuracy: 0.9478\n",
            "Epoch 29/100\n",
            "469/469 [==============================] - 5s 11ms/step - loss: 0.1406 - accuracy: 0.9491\n",
            "Epoch 30/100\n",
            "469/469 [==============================] - 5s 10ms/step - loss: 0.1377 - accuracy: 0.9513\n",
            "Epoch 31/100\n",
            "469/469 [==============================] - 5s 11ms/step - loss: 0.1344 - accuracy: 0.9510\n",
            "Epoch 32/100\n",
            "469/469 [==============================] - 5s 11ms/step - loss: 0.1309 - accuracy: 0.9526\n",
            "Epoch 33/100\n",
            "469/469 [==============================] - 5s 10ms/step - loss: 0.1281 - accuracy: 0.9526\n",
            "Epoch 34/100\n",
            "469/469 [==============================] - 5s 10ms/step - loss: 0.1250 - accuracy: 0.9559\n",
            "Epoch 35/100\n",
            "469/469 [==============================] - 5s 10ms/step - loss: 0.1248 - accuracy: 0.9552\n",
            "Epoch 36/100\n",
            "469/469 [==============================] - 5s 10ms/step - loss: 0.1192 - accuracy: 0.9579\n",
            "Epoch 37/100\n",
            "469/469 [==============================] - 5s 10ms/step - loss: 0.1184 - accuracy: 0.9574\n",
            "Epoch 38/100\n",
            "469/469 [==============================] - 5s 10ms/step - loss: 0.1156 - accuracy: 0.9587\n",
            "Epoch 39/100\n",
            "469/469 [==============================] - 5s 10ms/step - loss: 0.1144 - accuracy: 0.9593\n",
            "Epoch 40/100\n",
            "469/469 [==============================] - 5s 11ms/step - loss: 0.1112 - accuracy: 0.9601\n",
            "Epoch 41/100\n",
            "469/469 [==============================] - 5s 10ms/step - loss: 0.1120 - accuracy: 0.9604\n",
            "Epoch 42/100\n",
            "469/469 [==============================] - 5s 11ms/step - loss: 0.1069 - accuracy: 0.9619\n",
            "Epoch 43/100\n",
            "469/469 [==============================] - 5s 11ms/step - loss: 0.1058 - accuracy: 0.9626\n",
            "Epoch 44/100\n",
            "469/469 [==============================] - 6s 12ms/step - loss: 0.1035 - accuracy: 0.9638\n",
            "Epoch 45/100\n",
            "469/469 [==============================] - 5s 10ms/step - loss: 0.1054 - accuracy: 0.9636\n",
            "Epoch 46/100\n",
            "469/469 [==============================] - 5s 10ms/step - loss: 0.1005 - accuracy: 0.9651\n",
            "Epoch 47/100\n",
            "469/469 [==============================] - 5s 10ms/step - loss: 0.1003 - accuracy: 0.9650\n",
            "Epoch 48/100\n",
            "469/469 [==============================] - 5s 10ms/step - loss: 0.1003 - accuracy: 0.9660\n",
            "Epoch 49/100\n",
            "469/469 [==============================] - 5s 10ms/step - loss: 0.0945 - accuracy: 0.9670\n",
            "Epoch 50/100\n",
            "469/469 [==============================] - 5s 10ms/step - loss: 0.0956 - accuracy: 0.9664\n",
            "Epoch 51/100\n",
            "469/469 [==============================] - 5s 10ms/step - loss: 0.0939 - accuracy: 0.9675\n",
            "Epoch 52/100\n",
            "469/469 [==============================] - 5s 10ms/step - loss: 0.0934 - accuracy: 0.9691\n",
            "Epoch 53/100\n",
            "469/469 [==============================] - 5s 10ms/step - loss: 0.0914 - accuracy: 0.9682\n",
            "Epoch 54/100\n",
            "469/469 [==============================] - 5s 10ms/step - loss: 0.0915 - accuracy: 0.9685\n",
            "Epoch 55/100\n",
            "469/469 [==============================] - 5s 11ms/step - loss: 0.0880 - accuracy: 0.9689\n",
            "Epoch 56/100\n",
            "469/469 [==============================] - 5s 11ms/step - loss: 0.0904 - accuracy: 0.9700\n",
            "Epoch 57/100\n",
            "469/469 [==============================] - 5s 11ms/step - loss: 0.0856 - accuracy: 0.9700\n",
            "Epoch 58/100\n",
            "469/469 [==============================] - 5s 10ms/step - loss: 0.0854 - accuracy: 0.9711\n",
            "Epoch 59/100\n",
            "469/469 [==============================] - 5s 11ms/step - loss: 0.0860 - accuracy: 0.9712\n",
            "Epoch 60/100\n",
            "469/469 [==============================] - 5s 11ms/step - loss: 0.0820 - accuracy: 0.9725\n",
            "Epoch 61/100\n",
            "469/469 [==============================] - 6s 14ms/step - loss: 0.0802 - accuracy: 0.9733\n",
            "Epoch 62/100\n",
            "469/469 [==============================] - 5s 11ms/step - loss: 0.0785 - accuracy: 0.9730\n",
            "Epoch 63/100\n",
            "469/469 [==============================] - 5s 11ms/step - loss: 0.0790 - accuracy: 0.9740\n",
            "Epoch 64/100\n",
            "469/469 [==============================] - 5s 11ms/step - loss: 0.0797 - accuracy: 0.9743\n",
            "Epoch 65/100\n",
            "469/469 [==============================] - 6s 13ms/step - loss: 0.0744 - accuracy: 0.9754\n",
            "Epoch 66/100\n",
            "469/469 [==============================] - 6s 12ms/step - loss: 0.0789 - accuracy: 0.9743\n",
            "Epoch 67/100\n",
            "469/469 [==============================] - 6s 12ms/step - loss: 0.0750 - accuracy: 0.9742\n",
            "Epoch 68/100\n",
            "469/469 [==============================] - 5s 10ms/step - loss: 0.0741 - accuracy: 0.9759\n",
            "Epoch 69/100\n",
            "469/469 [==============================] - 5s 10ms/step - loss: 0.0735 - accuracy: 0.9755\n",
            "Epoch 70/100\n",
            "469/469 [==============================] - 5s 11ms/step - loss: 0.0735 - accuracy: 0.9760\n",
            "Epoch 71/100\n",
            "469/469 [==============================] - 5s 10ms/step - loss: 0.0739 - accuracy: 0.9757\n",
            "Epoch 72/100\n",
            "469/469 [==============================] - 5s 10ms/step - loss: 0.0711 - accuracy: 0.9761\n",
            "Epoch 73/100\n",
            "469/469 [==============================] - 5s 10ms/step - loss: 0.0701 - accuracy: 0.9769\n",
            "Epoch 74/100\n",
            "469/469 [==============================] - 6s 13ms/step - loss: 0.0702 - accuracy: 0.9779\n",
            "Epoch 75/100\n",
            "469/469 [==============================] - 5s 10ms/step - loss: 0.0670 - accuracy: 0.9779\n",
            "Epoch 76/100\n",
            "469/469 [==============================] - 5s 10ms/step - loss: 0.0671 - accuracy: 0.9782\n",
            "Epoch 77/100\n",
            "469/469 [==============================] - 5s 10ms/step - loss: 0.0689 - accuracy: 0.9776\n",
            "Epoch 78/100\n",
            "469/469 [==============================] - 5s 10ms/step - loss: 0.0671 - accuracy: 0.9787\n",
            "Epoch 79/100\n",
            "469/469 [==============================] - 5s 10ms/step - loss: 0.0674 - accuracy: 0.9786\n",
            "Epoch 80/100\n",
            "469/469 [==============================] - 5s 12ms/step - loss: 0.0656 - accuracy: 0.9788\n",
            "Epoch 81/100\n",
            "469/469 [==============================] - 5s 11ms/step - loss: 0.0652 - accuracy: 0.9796\n",
            "Epoch 82/100\n",
            "469/469 [==============================] - 6s 13ms/step - loss: 0.0668 - accuracy: 0.9785\n",
            "Epoch 83/100\n",
            "469/469 [==============================] - 7s 14ms/step - loss: 0.0665 - accuracy: 0.9791\n",
            "Epoch 84/100\n",
            "469/469 [==============================] - 7s 15ms/step - loss: 0.0635 - accuracy: 0.9797\n",
            "Epoch 85/100\n",
            "469/469 [==============================] - 7s 14ms/step - loss: 0.0626 - accuracy: 0.9804\n",
            "Epoch 86/100\n",
            "469/469 [==============================] - 7s 15ms/step - loss: 0.0650 - accuracy: 0.9798\n",
            "Epoch 87/100\n",
            "469/469 [==============================] - 6s 12ms/step - loss: 0.0629 - accuracy: 0.9803\n",
            "Epoch 88/100\n",
            "469/469 [==============================] - 5s 10ms/step - loss: 0.0586 - accuracy: 0.9817\n",
            "Epoch 89/100\n",
            "469/469 [==============================] - 9s 18ms/step - loss: 0.0594 - accuracy: 0.9812\n",
            "Epoch 90/100\n",
            "469/469 [==============================] - 6s 13ms/step - loss: 0.0605 - accuracy: 0.9805\n",
            "Epoch 91/100\n",
            "469/469 [==============================] - 7s 15ms/step - loss: 0.0576 - accuracy: 0.9817\n",
            "Epoch 92/100\n",
            "469/469 [==============================] - 6s 12ms/step - loss: 0.0577 - accuracy: 0.9824\n",
            "Epoch 93/100\n",
            "469/469 [==============================] - 5s 10ms/step - loss: 0.0601 - accuracy: 0.9816\n",
            "Epoch 94/100\n",
            "469/469 [==============================] - 5s 10ms/step - loss: 0.0596 - accuracy: 0.9817\n",
            "Epoch 95/100\n",
            "469/469 [==============================] - 5s 10ms/step - loss: 0.0577 - accuracy: 0.9819\n",
            "Epoch 96/100\n",
            "469/469 [==============================] - 5s 10ms/step - loss: 0.0530 - accuracy: 0.9835\n",
            "Epoch 97/100\n",
            "469/469 [==============================] - 5s 10ms/step - loss: 0.0570 - accuracy: 0.9831\n",
            "Epoch 98/100\n",
            "469/469 [==============================] - 5s 12ms/step - loss: 0.0562 - accuracy: 0.9831\n",
            "Epoch 99/100\n",
            "469/469 [==============================] - 5s 10ms/step - loss: 0.0564 - accuracy: 0.9826\n",
            "Epoch 100/100\n",
            "469/469 [==============================] - 5s 10ms/step - loss: 0.0554 - accuracy: 0.9831\n"
          ]
        },
        {
          "output_type": "execute_result",
          "data": {
            "text/plain": [
              "<keras.callbacks.History at 0x7fd5d2d56cd0>"
            ]
          },
          "metadata": {},
          "execution_count": 98
        }
      ]
    },
    {
      "cell_type": "code",
      "source": [
        "from keras.datasets import fashion_mnist\n",
        "from matplotlib import pyplot\n",
        "(x_train, y_train), (x_test, y_test) = fashion_mnist.load_data()\n",
        "class_names= ['T-Shirt/Top','Trousers','Pullover','Press','Coat','Sandal','Shirt','Sneaker', 'Bag', 'Ankle boat']\n",
        "plt.imshow(x_train[100])\n",
        "plt.show()\n",
        "print(class_names[y_train[100]])\n"
      ],
      "metadata": {
        "colab": {
          "base_uri": "https://localhost:8080/",
          "height": 282
        },
        "id": "53HlPNWiFf5M",
        "outputId": "b2f460f0-5d94-49ef-ffdd-408413022cbf"
      },
      "execution_count": null,
      "outputs": [
        {
          "output_type": "display_data",
          "data": {
            "text/plain": [
              "<Figure size 432x288 with 1 Axes>"
            ],
            "image/png": "[encoded data removed]"
          },
          "metadata": {
            "needs_background": "light"
          }
        },
        {
          "output_type": "stream",
          "name": "stdout",
          "text": [
            "Bag\n"
          ]
        }
      ]
    },
    {
      "cell_type": "code",
      "source": [
        "from keras.datasets import fashion_mnist\n",
        "from matplotlib import pyplot\n",
        "(x_train, y_train), (x_test, y_test) = fashion_mnist.load_data()\n",
        "class_names= ['T-Shirt/Top','Trousers','Pullover','Press','Coat','Sandal','Shirt','Sneaker', 'Bag', 'Ankle boat']\n",
        "plt.imshow(x_train[100])\n",
        "from keras import models\n",
        "from keras import layers\n",
        "import numpy as np\n",
        "model = models.Sequential()\n",
        "model.add(layers.Dense(512,activation = 'relu',input_shape = (28*28,)))\n",
        "model.add(layers.Dense(10,activation = 'softmax'))\n",
        "x_train = x_train.reshape((60000,28*28))\n",
        "x_train = x_train.astype('float32')/255\n",
        "x_test = x_test.reshape((10000,28*28))\n",
        "x_test = x_test.astype('float32')/255\n",
        "from keras.utils import to_categorical\n",
        "y_train = to_categorical(y_train)\n",
        "y_test = to_categorical(y_test)\n",
        "from keras.metrics import metrics\n",
        "model.compile(optimizer ='rmsprop',loss='categorical_crossentropy',metrics=['accuracy'])\n",
        "model.fit(x_train,y_train,epochs=10, batch_size= 128)\n"
      ],
      "metadata": {
        "colab": {
          "base_uri": "https://localhost:8080/",
          "height": 629
        },
        "id": "kfXovv8uOvuo",
        "outputId": "076b0f11-ac89-4b1a-ac1b-5ddaba0e9bd6"
      },
      "execution_count": null,
      "outputs": [
        {
          "output_type": "stream",
          "name": "stdout",
          "text": [
            "Epoch 1/10\n",
            "469/469 [==============================] - 5s 11ms/step - loss: 0.5534 - accuracy: 0.8023\n",
            "Epoch 2/10\n",
            "469/469 [==============================] - 5s 11ms/step - loss: 0.3798 - accuracy: 0.8601\n",
            "Epoch 3/10\n",
            "469/469 [==============================] - 5s 10ms/step - loss: 0.3375 - accuracy: 0.8744\n",
            "Epoch 4/10\n",
            "469/469 [==============================] - 5s 10ms/step - loss: 0.3105 - accuracy: 0.8855\n",
            "Epoch 5/10\n",
            "469/469 [==============================] - 5s 10ms/step - loss: 0.2909 - accuracy: 0.8922\n",
            "Epoch 6/10\n",
            "469/469 [==============================] - 5s 10ms/step - loss: 0.2770 - accuracy: 0.8968\n",
            "Epoch 7/10\n",
            "469/469 [==============================] - 5s 10ms/step - loss: 0.2643 - accuracy: 0.9036\n",
            "Epoch 8/10\n",
            "469/469 [==============================] - 5s 10ms/step - loss: 0.2537 - accuracy: 0.9065\n",
            "Epoch 9/10\n",
            "469/469 [==============================] - 5s 11ms/step - loss: 0.2415 - accuracy: 0.9100\n",
            "Epoch 10/10\n",
            "469/469 [==============================] - 5s 11ms/step - loss: 0.2353 - accuracy: 0.9129\n"
          ]
        },
        {
          "output_type": "execute_result",
          "data": {
            "text/plain": [
              "<keras.callbacks.History at 0x7fd5db986bd0>"
            ]
          },
          "metadata": {},
          "execution_count": 108
        },
        {
          "output_type": "display_data",
          "data": {
            "text/plain": [
              "<Figure size 432x288 with 1 Axes>"
            ],
            "image/png": "[encoded data removed]"
          },
          "metadata": {
            "needs_background": "light"
          }
        }
      ]
    },
    {
      "cell_type": "code",
      "source": [
        "import numpy as np\n",
        "from tensorflow.keras.utils import load_img\n",
        "from keras.utils import img_to_array\n",
        "url = '/content/images (1).jfif'\n",
        "img= load_img(url, target_size=(28,28))\n",
        "plt.imshow(img)\n",
        "plt.show()\n",
        "img=img_to_array(img)\n",
        "img=img.reshape(1,28,28,3)\n",
        "img=img.astype('float32')/255\n",
        "img=img.reshape(1,784)\n",
        "img=img.astype('float32')/255\n",
        "np.argmax(model.predict(img),axis=1)\n"
      ],
      "metadata": {
        "colab": {
          "base_uri": "https://localhost:8080/",
          "height": 483
        },
        "id": "CjetgA6GO7d3",
        "outputId": "840aa81f-9a10-4427-bca3-b00d0d70f1f2"
      },
      "execution_count": null,
      "outputs": [
        {
          "output_type": "display_data",
          "data": {
            "text/plain": [
              "<Figure size 432x288 with 1 Axes>"
            ],
            "image/png": "[encoded data removed]"
          },
          "metadata": {
            "needs_background": "light"
          }
        },
        {
          "output_type": "error",
          "ename": "ValueError",
          "evalue": "ignored",
          "traceback": [
            "\u001b[0;31m---------------------------------------------------------------------------\u001b[0m",
            "\u001b[0;31mValueError\u001b[0m                                Traceback (most recent call last)",
            "\u001b[0;32m<ipython-input-126-a17b4f7b35fa>\u001b[0m in \u001b[0;36m<module>\u001b[0;34m\u001b[0m\n\u001b[1;32m      9\u001b[0m \u001b[0mimg\u001b[0m\u001b[0;34m=\u001b[0m\u001b[0mimg\u001b[0m\u001b[0;34m.\u001b[0m\u001b[0mreshape\u001b[0m\u001b[0;34m(\u001b[0m\u001b[0;36m1\u001b[0m\u001b[0;34m,\u001b[0m\u001b[0;36m28\u001b[0m\u001b[0;34m,\u001b[0m\u001b[0;36m28\u001b[0m\u001b[0;34m,\u001b[0m\u001b[0;36m3\u001b[0m\u001b[0;34m)\u001b[0m\u001b[0;34m\u001b[0m\u001b[0;34m\u001b[0m\u001b[0m\n\u001b[1;32m     10\u001b[0m \u001b[0mimg\u001b[0m\u001b[0;34m=\u001b[0m\u001b[0mimg\u001b[0m\u001b[0;34m.\u001b[0m\u001b[0mastype\u001b[0m\u001b[0;34m(\u001b[0m\u001b[0;34m'float32'\u001b[0m\u001b[0;34m)\u001b[0m\u001b[0;34m/\u001b[0m\u001b[0;36m255\u001b[0m\u001b[0;34m\u001b[0m\u001b[0;34m\u001b[0m\u001b[0m\n\u001b[0;32m---> 11\u001b[0;31m \u001b[0mimg\u001b[0m\u001b[0;34m=\u001b[0m\u001b[0mimg\u001b[0m\u001b[0;34m.\u001b[0m\u001b[0mreshape\u001b[0m\u001b[0;34m(\u001b[0m\u001b[0;36m1\u001b[0m\u001b[0;34m,\u001b[0m\u001b[0;36m784\u001b[0m\u001b[0;34m)\u001b[0m\u001b[0;34m\u001b[0m\u001b[0;34m\u001b[0m\u001b[0m\n\u001b[0m\u001b[1;32m     12\u001b[0m \u001b[0mimg\u001b[0m\u001b[0;34m=\u001b[0m\u001b[0mimg\u001b[0m\u001b[0;34m.\u001b[0m\u001b[0mastype\u001b[0m\u001b[0;34m(\u001b[0m\u001b[0;34m'float32'\u001b[0m\u001b[0;34m)\u001b[0m\u001b[0;34m/\u001b[0m\u001b[0;36m255\u001b[0m\u001b[0;34m\u001b[0m\u001b[0;34m\u001b[0m\u001b[0m\n\u001b[1;32m     13\u001b[0m \u001b[0mnp\u001b[0m\u001b[0;34m.\u001b[0m\u001b[0margmax\u001b[0m\u001b[0;34m(\u001b[0m\u001b[0mmodel\u001b[0m\u001b[0;34m.\u001b[0m\u001b[0mpredict\u001b[0m\u001b[0;34m(\u001b[0m\u001b[0mimg\u001b[0m\u001b[0;34m)\u001b[0m\u001b[0;34m,\u001b[0m\u001b[0maxis\u001b[0m\u001b[0;34m=\u001b[0m\u001b[0;36m1\u001b[0m\u001b[0;34m)\u001b[0m\u001b[0;34m\u001b[0m\u001b[0;34m\u001b[0m\u001b[0m\n",
            "\u001b[0;31mValueError\u001b[0m: cannot reshape array of size 2352 into shape (1,784)"
          ]
        }
      ]
    }
  ]
}